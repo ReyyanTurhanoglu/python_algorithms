{
 "cells": [
  {
   "cell_type": "code",
   "execution_count": 30,
   "id": "6e5a40b7-ddf4-4241-8cba-8450b74cbabb",
   "metadata": {},
   "outputs": [
    {
     "name": "stdin",
     "output_type": "stream",
     "text": [
      "bir kelime giriniz turhanoğlu\n"
     ]
    },
    {
     "name": "stdout",
     "output_type": "stream",
     "text": [
      "turğlu\n"
     ]
    }
   ],
   "source": [
    "#kullanıcıdan aldığınız bir dizenin ilk 3 ve son 3 karakterinden oluşan bir dize döndürün.Dize uzunluğu 3'ten az ise \"empty string\" döndürün.\n",
    "#çözümüm\n",
    "string=input(\"bir kelime giriniz\")\n",
    "if len(string)>3:\n",
    "    yazdır=string[:3]+string[-3:]\n",
    "    print(yazdır)\n",
    "elif len(string)==3:\n",
    "    print(string)\n",
    "else:\n",
    "    print(\"empty string\")"
   ]
  }
 ],
 "metadata": {
  "kernelspec": {
   "display_name": "Python 3 (ipykernel)",
   "language": "python",
   "name": "python3"
  },
  "language_info": {
   "codemirror_mode": {
    "name": "ipython",
    "version": 3
   },
   "file_extension": ".py",
   "mimetype": "text/x-python",
   "name": "python",
   "nbconvert_exporter": "python",
   "pygments_lexer": "ipython3",
   "version": "3.11.7"
  }
 },
 "nbformat": 4,
 "nbformat_minor": 5
}
