{
 "cells": [
  {
   "cell_type": "code",
   "execution_count": 27,
   "id": "bf4c0186-674d-4089-870a-860ec88ff46f",
   "metadata": {},
   "outputs": [
    {
     "name": "stdin",
     "output_type": "stream",
     "text": [
      "ilk nesneyi girin 4\n",
      "ikinci nesneyi girin p\n"
     ]
    },
    {
     "name": "stdout",
     "output_type": "stream",
     "text": [
      "tam sayı girişi olmadı\n"
     ]
    }
   ],
   "source": [
    "#Kullanıcıdan alınan iki nesne tam sayı türündeyse,iki nesneyi toplamak için bir python programı yazın.\n",
    "a=input(\"ilk nesneyi girin\")\n",
    "b=input(\"ikinci nesneyi girin\")\n",
    "if a.isnumeric() and b.isnumeric():\n",
    "    print(int(a)+int(b))\n",
    "else:\n",
    "    print(\"tam sayı girişi olmadı\")"
   ]
  },
  {
   "cell_type": "code",
   "execution_count": null,
   "id": "651e2c1f-6201-4c40-bed9-fed5d94c46d0",
   "metadata": {},
   "outputs": [],
   "source": []
  }
 ],
 "metadata": {
  "kernelspec": {
   "display_name": "Python 3 (ipykernel)",
   "language": "python",
   "name": "python3"
  },
  "language_info": {
   "codemirror_mode": {
    "name": "ipython",
    "version": 3
   },
   "file_extension": ".py",
   "mimetype": "text/x-python",
   "name": "python",
   "nbconvert_exporter": "python",
   "pygments_lexer": "ipython3",
   "version": "3.11.7"
  }
 },
 "nbformat": 4,
 "nbformat_minor": 5
}
