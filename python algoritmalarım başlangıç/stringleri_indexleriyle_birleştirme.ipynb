{
 "cells": [
  {
   "cell_type": "code",
   "execution_count": 9,
   "id": "c9bdf1d6-85b4-4210-b27d-0a7744d0d0b0",
   "metadata": {},
   "outputs": [
    {
     "name": "stdout",
     "output_type": "stream",
     "text": [
      "samehmetrı\n"
     ]
    }
   ],
   "source": [
    "#s1 ve s2 olarak tanımlanmış iki string verildiğinde s1'in ortasına s2'yi ekleyerek yeni bir s3 stringi oluşturan bir algoritma oluşturun.\n",
    "#input\n",
    "s1=\"sarı\"\n",
    "s2=\"mehmet\"\n",
    "#output\n",
    "s3=\"samehmetrı\"\n",
    "#çözümüm\n",
    "s3=s1[:2]+s2+s1[2:]\n",
    "print(s3)"
   ]
  }
 ],
 "metadata": {
  "kernelspec": {
   "display_name": "Python 3 (ipykernel)",
   "language": "python",
   "name": "python3"
  },
  "language_info": {
   "codemirror_mode": {
    "name": "ipython",
    "version": 3
   },
   "file_extension": ".py",
   "mimetype": "text/x-python",
   "name": "python",
   "nbconvert_exporter": "python",
   "pygments_lexer": "ipython3",
   "version": "3.11.7"
  }
 },
 "nbformat": 4,
 "nbformat_minor": 5
}
