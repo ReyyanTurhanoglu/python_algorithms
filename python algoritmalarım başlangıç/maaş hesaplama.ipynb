{
 "cells": [
  {
   "cell_type": "code",
   "execution_count": 5,
   "id": "3cd3e923-d8f9-42d6-94d1-8ff7c832d252",
   "metadata": {},
   "outputs": [
    {
     "name": "stdin",
     "output_type": "stream",
     "text": [
      "bu hafta kaç saat çalıştınız?: 12\n",
      "saatlik ne kadar kazanıyorsunuz?: 65\n"
     ]
    },
    {
     "name": "stdout",
     "output_type": "stream",
     "text": [
      "780\n"
     ]
    }
   ],
   "source": [
    "#Kullanıcıdan haftalık çalışma saatini ve saatlik ücretini alarak maaşını hesaplayan program kodunu yazın.Eğer 40 saatin üzerinde çalışıyorsa saatlik ücreti 1.5 katı ile çarpılacak.\n",
    "süre=int(input(\"bu hafta kaç saat çalıştınız?:\"))\n",
    "ücret=int(input(\"saatlik ne kadar kazanıyorsunuz?:\"))\n",
    "if(süre>40):\n",
    "    maaş=40*ücret+(süre-40)*ücret*1.5\n",
    "\n",
    "else:\n",
    "    maaş=süre*ücret\n",
    "print(maaş)\n"
   ]
  }
 ],
 "metadata": {
  "kernelspec": {
   "display_name": "Python 3 (ipykernel)",
   "language": "python",
   "name": "python3"
  },
  "language_info": {
   "codemirror_mode": {
    "name": "ipython",
    "version": 3
   },
   "file_extension": ".py",
   "mimetype": "text/x-python",
   "name": "python",
   "nbconvert_exporter": "python",
   "pygments_lexer": "ipython3",
   "version": "3.11.7"
  }
 },
 "nbformat": 4,
 "nbformat_minor": 5
}
