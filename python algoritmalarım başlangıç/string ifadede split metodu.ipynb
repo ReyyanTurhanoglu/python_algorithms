{
 "cells": [
  {
   "cell_type": "code",
   "execution_count": 25,
   "id": "b6d5528c-7c84-4f9f-80ca-6c6515b5d3be",
   "metadata": {},
   "outputs": [
    {
     "name": "stdin",
     "output_type": "stream",
     "text": [
      "lütfen adınızı,yaşınızı ve mesleğinizi aralarında virgül bırakarak giriniz: reyyan,18,bilmüh\n"
     ]
    },
    {
     "name": "stdout",
     "output_type": "stream",
     "text": [
      "adı:reyyan \n",
      "yaşı:18 \n",
      "mesleği:bilmüh\n"
     ]
    }
   ],
   "source": [
    "#write a Python program to display your details like name,age,job in three different lines\n",
    "#çözümüm\n",
    "bilgiler=input(\"lütfen adınızı,yaşınızı ve mesleğinizi aralarında virgül bırakarak giriniz:\")\n",
    "bilgiler=bilgiler.split(\",\")\n",
    "print(f\"adı:{bilgiler[0]} \\nyaşı:{bilgiler[1]} \\nmesleği:{bilgiler[2]}\")\n",
    "               "
   ]
  }
 ],
 "metadata": {
  "kernelspec": {
   "display_name": "Python 3 (ipykernel)",
   "language": "python",
   "name": "python3"
  },
  "language_info": {
   "codemirror_mode": {
    "name": "ipython",
    "version": 3
   },
   "file_extension": ".py",
   "mimetype": "text/x-python",
   "name": "python",
   "nbconvert_exporter": "python",
   "pygments_lexer": "ipython3",
   "version": "3.11.7"
  }
 },
 "nbformat": 4,
 "nbformat_minor": 5
}
