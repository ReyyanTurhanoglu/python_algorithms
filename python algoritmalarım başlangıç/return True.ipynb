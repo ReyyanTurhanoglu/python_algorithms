{
 "cells": [
  {
   "cell_type": "code",
   "execution_count": 17,
   "id": "4ea25727-b6da-4b1e-ba81-fb053134a793",
   "metadata": {},
   "outputs": [
    {
     "name": "stdin",
     "output_type": "stream",
     "text": [
      "1. sayıyı giriniz: 5\n",
      "2. sayıyı giriniz: 10\n"
     ]
    },
    {
     "data": {
      "text/plain": [
       "True"
      ]
     },
     "execution_count": 17,
     "metadata": {},
     "output_type": "execute_result"
    }
   ],
   "source": [
    "#Kullanıcıdan aldığınız iki tam sayı değeri eşitse veya bu sayıların farkı 5'in katı ise sonuç olarak True döndürecek bir algoritma oluşturun. \n",
    "ilksayi=int(input(\"1. sayıyı giriniz:\"))\n",
    "ikincisayi=int(input(\"2. sayıyı giriniz:\"))\n",
    "def fonksiyon():\n",
    " if ilksayi==ikincisayi:\n",
    "    return True\n",
    " elif abs(ilksayi-ikincisayi)%5==0:\n",
    "    return True\n",
    " else:\n",
    "    return False\n",
    "fonksiyon()"
   ]
  },
  {
   "cell_type": "code",
   "execution_count": null,
   "id": "da3dce72-a8af-4218-9615-d95699bb6e76",
   "metadata": {},
   "outputs": [],
   "source": []
  }
 ],
 "metadata": {
  "kernelspec": {
   "display_name": "Python 3 (ipykernel)",
   "language": "python",
   "name": "python3"
  },
  "language_info": {
   "codemirror_mode": {
    "name": "ipython",
    "version": 3
   },
   "file_extension": ".py",
   "mimetype": "text/x-python",
   "name": "python",
   "nbconvert_exporter": "python",
   "pygments_lexer": "ipython3",
   "version": "3.11.7"
  }
 },
 "nbformat": 4,
 "nbformat_minor": 5
}
