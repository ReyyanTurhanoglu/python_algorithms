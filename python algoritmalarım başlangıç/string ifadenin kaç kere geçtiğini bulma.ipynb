{
 "cells": [
  {
   "cell_type": "code",
   "execution_count": 7,
   "id": "7c09ee92-f24b-4c0a-bb6c-2e0329e61338",
   "metadata": {},
   "outputs": [
    {
     "name": "stdout",
     "output_type": "stream",
     "text": [
      "Mr.Bean 2 kez cümlede geçti.\n"
     ]
    }
   ],
   "source": [
    "#Verilen dizede \"Mr.Bean\" alt dizesinin kaç kez göründüğünü bulan bir program yazın.\n",
    "#str_x='Mr.Bean is good actor and Mr.Bean is very funny.'\n",
    "#çözümüm\n",
    "str_x='Mr.Bean is good actor and Mr.Bean is very funny.'\n",
    "kaç_kere=str_x.count(\"Mr.Bean\")\n",
    "print(f\"Mr.Bean {kaç_kere} kez cümlede geçti.\")\n"
   ]
  }
 ],
 "metadata": {
  "kernelspec": {
   "display_name": "Python 3 (ipykernel)",
   "language": "python",
   "name": "python3"
  },
  "language_info": {
   "codemirror_mode": {
    "name": "ipython",
    "version": 3
   },
   "file_extension": ".py",
   "mimetype": "text/x-python",
   "name": "python",
   "nbconvert_exporter": "python",
   "pygments_lexer": "ipython3",
   "version": "3.11.7"
  }
 },
 "nbformat": 4,
 "nbformat_minor": 5
}
